{
    "nbformat": 4,
    "nbformat_minor": 0,
    "metadata": {
        "colab": {
            "name": "Copy of Scala in Colab Template.ipynb",
            "version": "0.3.2",
            "provenance": [
                {
                    "file_id": "https://gist.github.com/shadaj/aaac98b690cfeb0cbd891bfe3ce5725d#file-scala-in-colab-template-ipynb",
                    "timestamp": 1555773591368
                }
            ],
            "collapsed_sections": [],
            "toc_visible": true
        },
        "kernelspec": {
            "name": "python3",
            "display_name": "Python 3"
        }
    },
    "cells": [
        {
            "metadata": {
                "id": "up2G8zDbhsEN",
                "colab_type": "text"
            },
            "cell_type": "markdown",
            "source": [
                "# Scala in Colab\n",
                "## BEFORE YOU BEGIN: [install Scala support](https://colab.research.google.com/gist/shadaj/323ad2393b46c1b71df435728a052c24/install-scala-in-colab.ipynb) into your Collab environment"
            ]
        },
        {
            "metadata": {
                "id": "a9z0PxRg_iOp",
                "colab_type": "code",
                "outputId": "d82f62b5-af6c-4171-c456-f4c93d8ed8df",
                "executionInfo": {
                    "status": "error",
                    "timestamp": 1555849191200,
                    "user_tz": 240,
                    "elapsed": 317,
                    "user": {
                        "displayName": "John Langley",
                        "photoUrl": "https://lh6.googleusercontent.com/-op9iFZiX0yk/AAAAAAAAAAI/AAAAAAAACR0/oTOw3a92A6w/s64/photo.jpg",
                        "userId": "14720466572067646153"
                    }
                },
                "colab": {
                    "base_uri": "https://localhost:8080/",
                    "height": 164
                }
            },
            "cell_type": "code",
            "source": [
                "println(\"Hello, world!\")"
            ],
            "execution_count": 2,
            "outputs": [
                {
                    "output_type": "error",
                    "ename": "NameError",
                    "evalue": "ignored",
                    "traceback": [
                        "\u001b[0;31m---------------------------------------------------------------------------\u001b[0m",
                        "\u001b[0;31mNameError\u001b[0m                                 Traceback (most recent call last)",
                        "\u001b[0;32m<ipython-input-2-55dcecfe56a8>\u001b[0m in \u001b[0;36m<module>\u001b[0;34m()\u001b[0m\n\u001b[0;32m----> 1\u001b[0;31m \u001b[0mprintln\u001b[0m\u001b[0;34m(\u001b[0m\u001b[0;34m\"Hello, world!\"\u001b[0m\u001b[0;34m)\u001b[0m\u001b[0;34m\u001b[0m\u001b[0;34m\u001b[0m\u001b[0m\n\u001b[0m",
                        "\u001b[0;31mNameError\u001b[0m: name 'println' is not defined"
                    ]
                }
            ]
        }
    ]
}