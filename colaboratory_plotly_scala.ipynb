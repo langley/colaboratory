{
  "nbformat": 4,
  "nbformat_minor": 0,
  "metadata": {
    "colab": {
      "name": "colaboratory-plotly-scala.ipynb",
      "version": "0.3.2",
      "provenance": [],
      "collapsed_sections": [],
      "include_colab_link": true
    },
    "language_info": {
      "codemirror_mode": "text/x-scala",
      "file_extension": ".scala",
      "mimetype": "text/x-scala",
      "name": "scala",
      "nbconvert_exporter": "script",
      "version": "2.12.8"
    },
    "kernelspec": {
      "display_name": "Scala",
      "language": "scala",
      "name": "scala"
    }
  },
  "cells": [
    {
      "cell_type": "markdown",
      "metadata": {
        "id": "view-in-github",
        "colab_type": "text"
      },
      "source": [
        "<a href=\"https://colab.research.google.com/github/langley/colaboratory/blob/master/colaboratory_plotly_scala.ipynb\" target=\"_parent\"><img src=\"https://colab.research.google.com/assets/colab-badge.svg\" alt=\"Open In Colab\"/></a>"
      ]
    },
    {
      "metadata": {
        "id": "sVbfgjwK2reG",
        "colab_type": "text"
      },
      "cell_type": "markdown",
      "source": [
        "# Examples of plotly-scala with Almond"
      ]
    },
    {
      "metadata": {
        "id": "a6_5PlqM3sTi",
        "colab_type": "code",
        "colab": {}
      },
      "cell_type": "code",
      "source": [
        "println(\"Verify scala kernel is running. Otherwise, you get an error.\")\n",
        "kernel.publish.html(s\"<b>Display html in the notebook/browser using the almond kernel api.</b>\")\n"
      ],
      "execution_count": 0,
      "outputs": []
    },
    {
      "metadata": {
        "id": "BKNqRs5r2reL",
        "colab_type": "code",
        "colab": {}
      },
      "cell_type": "code",
      "source": [
        "import $ivy.`org.plotly-scala::plotly-almond:0.5.4`\n",
        "import plotly._, plotly.element._, plotly.layout._, plotly.Almond._\n",
        "\n",
        "// if you want to have the plots available without an internet connection:\n",
        "// init(offline=true)\n",
        "\n",
        "// restrict the output height to avoid scrolling in output cells\n",
        "repl.pprinter() = repl.pprinter().copy(defaultHeight = 3)"
      ],
      "execution_count": 0,
      "outputs": []
    },
    {
      "metadata": {
        "id": "FlxVjruc3FGR",
        "colab_type": "code",
        "colab": {}
      },
      "cell_type": "code",
      "source": [
        "import plotly._, plotly.element._, plotly.layout._, plotly.Almond._\n"
      ],
      "execution_count": 0,
      "outputs": []
    },
    {
      "metadata": {
        "id": "Lg6p9Obv2reQ",
        "colab_type": "text"
      },
      "cell_type": "markdown",
      "source": [
        "# Line Charts\n",
        "## Basic Line Chart"
      ]
    },
    {
      "metadata": {
        "id": "cPagFDZX2reQ",
        "colab_type": "code",
        "colab": {}
      },
      "cell_type": "code",
      "source": [
        "kernel.publish.html(\"\"\"\n",
        "   <script src=\"/static/components/requirejs/require.js\"></script>\n",
        "     <script>\n",
        "       requirejs.config({\n",
        "          paths: {\n",
        "          base: '/static/base',\n",
        "          plotly: 'https://cdn.plot.ly/plotly-latest.min.js?noext',\n",
        "            },\n",
        "       });\n",
        "     </script>\"\"\")\n",
        "\n",
        "val trace1 = Scatter(\n",
        "  Seq(1, 2, 3, 4),\n",
        "  Seq(10, 15, 13, 17)\n",
        ")\n",
        "\n",
        "val trace2 = Scatter(\n",
        "  Seq(1, 2, 3, 4),\n",
        "  Seq(16, 5, 11, 9)\n",
        ")\n",
        "\n",
        "val data = Seq(trace1, trace2)\n",
        "init(offline=true)\n",
        "plot(data)"
      ],
      "execution_count": 0,
      "outputs": []
    },
    {
      "metadata": {
        "id": "sQyXzJ-e2reT",
        "colab_type": "text"
      },
      "cell_type": "markdown",
      "source": [
        "## Line and Scatter Plot"
      ]
    },
    {
      "metadata": {
        "id": "Zrexp6Wu2reU",
        "colab_type": "code",
        "colab": {}
      },
      "cell_type": "code",
      "source": [
        "kernel.publish.html(\"\"\"\n",
        "   <script src=\"/static/components/requirejs/require.js\"></script>\n",
        "     <script>\n",
        "       requirejs.config({\n",
        "          paths: {\n",
        "          base: '/static/base',\n",
        "          plotly: 'https://cdn.plot.ly/plotly-latest.min.js?noext',\n",
        "            },\n",
        "       });\n",
        "     </script>\"\"\")\n",
        "\n",
        "\n",
        "val trace1 = Scatter(\n",
        "  Seq(1, 2, 3, 4),\n",
        "  Seq(10, 15, 13, 17),\n",
        "  mode = ScatterMode(ScatterMode.Markers)\n",
        ")\n",
        "\n",
        "val trace2 = Scatter(\n",
        "  Seq(2, 3, 4, 5),\n",
        "  Seq(16, 5, 11, 9),\n",
        "  mode = ScatterMode(ScatterMode.Lines)\n",
        ")\n",
        "\n",
        "val trace3 = Scatter(\n",
        "  Seq(1, 2, 3, 4),\n",
        "  Seq(12, 9, 15, 12),\n",
        "  mode = ScatterMode(ScatterMode.Lines, ScatterMode.Markers)\n",
        ")\n",
        "\n",
        "val data = Seq(trace1, trace2, trace3)\n",
        "\n",
        "val layout = Layout(\n",
        "  title = \"Line and Scatter Plot\"\n",
        ")\n",
        "\n",
        "plot(data, layout)"
      ],
      "execution_count": 0,
      "outputs": []
    },
    {
      "metadata": {
        "id": "M_HtL5xm2reW",
        "colab_type": "text"
      },
      "cell_type": "markdown",
      "source": [
        "# Scatter Plots\n",
        "## Categorical Dot Plot"
      ]
    },
    {
      "metadata": {
        "id": "6jmmKcV_2reW",
        "colab_type": "code",
        "colab": {}
      },
      "cell_type": "code",
      "source": [
        "kernel.publish.html(\"\"\"\n",
        "   <script src=\"/static/components/requirejs/require.js\"></script>\n",
        "     <script>\n",
        "       requirejs.config({\n",
        "          paths: {\n",
        "          base: '/static/base',\n",
        "          plotly: 'https://cdn.plot.ly/plotly-latest.min.js?noext',\n",
        "            },\n",
        "       });\n",
        "     </script>\"\"\")\n",
        "\n",
        "\n",
        "val country = Seq(\n",
        "  \"Switzerland (2011)\",\n",
        "  \"Chile (2013)\",\n",
        "  \"Japan (2014)\",\n",
        "  \"United States (2012)\",\n",
        "  \"Slovenia (2014)\",\n",
        "  \"Canada (2011)\",\n",
        "  \"Poland (2010)\",\n",
        "  \"Estonia (2015)\",\n",
        "  \"Luxembourg (2013)\",\n",
        "  \"Portugal (2011)\"\n",
        ")\n",
        "\n",
        "val votingPop = Seq(\n",
        "  40.0, 45.7, 52.0, 53.6, 54.1, 54.2, 54.5, 54.7, 55.1, 56.6\n",
        ")\n",
        "\n",
        "val regVoters = Seq(\n",
        "  49.1, 42.0, 52.7, 84.3, 51.7, 61.1, 55.3, 64.2, 91.1, 58.9\n",
        ")\n",
        "\n",
        "val trace1 = Scatter(\n",
        "  votingPop,\n",
        "  country,\n",
        "  mode = ScatterMode(ScatterMode.Markers),\n",
        "  name = \"Percent of estimated voting age population\",\n",
        "  marker = Marker(\n",
        "    color = Color.RGBA(156, 165, 196, 0.95),\n",
        "    line = Line(\n",
        "      color = Color.RGBA(156, 165, 196, 1.0),\n",
        "      width = 1.0\n",
        "    ),\n",
        "    symbol = Symbol.Circle(),\n",
        "    size = 16\n",
        "  )\n",
        ")\n",
        "\n",
        "val trace2 = Scatter(\n",
        "  regVoters,\n",
        "  country,\n",
        "  mode = ScatterMode(ScatterMode.Markers),\n",
        "  name = \"Percent of estimated registered voters\",\n",
        "  marker = Marker(\n",
        "    color = Color.RGBA(204, 204, 204, 0.95),\n",
        "    line = Line(\n",
        "      color = Color.RGBA(217, 217, 217, 1.0),\n",
        "      width = 1.0\n",
        "    ),\n",
        "    symbol = Symbol.Circle(),\n",
        "    size = 16\n",
        "  )\n",
        ")\n",
        "\n",
        "val data = Seq(trace1, trace2)\n",
        "\n",
        "val layout = Layout(\n",
        "  title = \"Votes cast for ten lowest voting age population in OECD countries\",\n",
        "  xaxis = Axis(\n",
        "    showgrid = false,\n",
        "    showline = true,\n",
        "    linecolor = Color.RGB(102, 102, 102),\n",
        "    titlefont = Font(\n",
        "      color = Color.RGB(204, 204, 204)\n",
        "    ),\n",
        "    tickfont = Font(\n",
        "      color = Color.RGB(102, 102, 102)\n",
        "    ),\n",
        "    autotick = false,\n",
        "    dtick = 10.0,\n",
        "    ticks = Ticks.Outside,\n",
        "    tickcolor = Color.RGB(102, 102, 102)\n",
        "  ),\n",
        "  margin = Margin(\n",
        "    l = 140,\n",
        "    r = 40,\n",
        "    b = 50,\n",
        "    t = 80\n",
        "  ),\n",
        "  legend = Legend(\n",
        "    font = Font(\n",
        "      size = 10\n",
        "    ),\n",
        "    yanchor = Anchor.Middle,\n",
        "    xanchor = Anchor.Right\n",
        "  ),\n",
        "  width = 600,\n",
        "  height = 400,\n",
        "  paper_bgcolor = Color.RGB(254, 247, 234),\n",
        "  plot_bgcolor = Color.RGB(254, 247, 234),\n",
        "  hovermode = HoverMode.Closest\n",
        ")\n",
        "\n",
        "plot(data, layout)"
      ],
      "execution_count": 0,
      "outputs": []
    },
    {
      "metadata": {
        "id": "8TtAuBtI2reZ",
        "colab_type": "text"
      },
      "cell_type": "markdown",
      "source": [
        "# Bar Charts\n",
        "## Basic Bar Chart"
      ]
    },
    {
      "metadata": {
        "id": "kAquVUac2rea",
        "colab_type": "code",
        "colab": {}
      },
      "cell_type": "code",
      "source": [
        "kernel.publish.html(\"\"\"\n",
        "   <script src=\"/static/components/requirejs/require.js\"></script>\n",
        "     <script>\n",
        "       requirejs.config({\n",
        "          paths: {\n",
        "          base: '/static/base',\n",
        "          plotly: 'https://cdn.plot.ly/plotly-latest.min.js?noext',\n",
        "            },\n",
        "       });\n",
        "     </script>\"\"\")\n",
        "\n",
        "\n",
        "val data = Seq(\n",
        "  Bar(\n",
        "    Seq(\"giraffes\", \"orangutans\", \"monkeys\"),\n",
        "    Seq(20, 14, 23)\n",
        "  )\n",
        ")\n",
        "\n",
        "plot(data)"
      ],
      "execution_count": 0,
      "outputs": []
    },
    {
      "metadata": {
        "id": "DkNjWH3Z2reb",
        "colab_type": "text"
      },
      "cell_type": "markdown",
      "source": [
        "## Grouped Bar Chart"
      ]
    },
    {
      "metadata": {
        "id": "LniahMQs2rec",
        "colab_type": "code",
        "colab": {}
      },
      "cell_type": "code",
      "source": [
        "kernel.publish.html(\"\"\"\n",
        "   <script src=\"/static/components/requirejs/require.js\"></script>\n",
        "     <script>\n",
        "       requirejs.config({\n",
        "          paths: {\n",
        "          base: '/static/base',\n",
        "          plotly: 'https://cdn.plot.ly/plotly-latest.min.js?noext',\n",
        "            },\n",
        "       });\n",
        "     </script>\"\"\")\n",
        "\n",
        "\n",
        "val trace1 = Bar(\n",
        "  Seq(\"giraffes\", \"orangutans\", \"monkeys\"),\n",
        "  Seq(20, 14, 23),\n",
        "  name = \"SF Zoo\"\n",
        ")\n",
        "\n",
        "val trace2 = Bar(\n",
        "  Seq(\"giraffes\", \"orangutans\", \"monkeys\"),\n",
        "  Seq(12, 18, 29),\n",
        "  name = \"LA Zoo\"\n",
        ")\n",
        "\n",
        "val data = Seq(trace1, trace2)\n",
        "\n",
        "val layout = Layout( \n",
        "  barmode = BarMode.Group\n",
        ")\n",
        "\n",
        "plot(data, layout)"
      ],
      "execution_count": 0,
      "outputs": []
    },
    {
      "metadata": {
        "id": "jEoiuX982ree",
        "colab_type": "text"
      },
      "cell_type": "markdown",
      "source": [
        "## Bar Chart with Direct Labels"
      ]
    },
    {
      "metadata": {
        "id": "w_Vhp_g02ree",
        "colab_type": "code",
        "colab": {}
      },
      "cell_type": "code",
      "source": [
        "kernel.publish.html(\"\"\"\n",
        "   <script src=\"/static/components/requirejs/require.js\"></script>\n",
        "     <script>\n",
        "       requirejs.config({\n",
        "          paths: {\n",
        "          base: '/static/base',\n",
        "          plotly: 'https://cdn.plot.ly/plotly-latest.min.js?noext',\n",
        "            },\n",
        "       });\n",
        "     </script>\"\"\")\n",
        "\n",
        "\n",
        "val xValue = Seq(\"Product A\", \"Product B\", \"Product C\")\n",
        "\n",
        "val yValue = Seq(20, 14, 23)\n",
        "\n",
        "val trace1 = Bar(\n",
        "  xValue,\n",
        "  yValue,\n",
        "  text = Seq(\"27% market share\", \"24% market share\", \"19% market share\"),\n",
        "  marker = Marker(\n",
        "    color = Color.RGB(158, 202, 225),\n",
        "    opacity = 0.6,\n",
        "    line = Line(\n",
        "      color = Color.RGB(8, 48, 107),\n",
        "      width = 1.5\n",
        "    )\n",
        "  )\n",
        ")\n",
        "\n",
        "val data = Seq(trace1)\n",
        "\n",
        "val annotations = xValue.zip(yValue).map {\n",
        "  case (x, y) =>\n",
        "    Annotation(\n",
        "      x = x,\n",
        "      y = y,\n",
        "      text = y.toString,\n",
        "      xanchor = Anchor.Center,\n",
        "      yanchor = Anchor.Bottom,\n",
        "      showarrow = false\n",
        "    )\n",
        "}\n",
        "\n",
        "val layout = Layout(\n",
        "  title = \"January 2013 Sales Report\",\n",
        "  annotations = annotations\n",
        ")\n",
        "\n",
        "plot(data, layout)"
      ],
      "execution_count": 0,
      "outputs": []
    },
    {
      "metadata": {
        "id": "Bymn7_o72rel",
        "colab_type": "text"
      },
      "cell_type": "markdown",
      "source": [
        "## Customizing Individual Bar Colors"
      ]
    },
    {
      "metadata": {
        "id": "jQKk7-9r2rem",
        "colab_type": "code",
        "colab": {}
      },
      "cell_type": "code",
      "source": [
        "kernel.publish.html(\"\"\"\n",
        "   <script src=\"/static/components/requirejs/require.js\"></script>\n",
        "     <script>\n",
        "       requirejs.config({\n",
        "          paths: {\n",
        "          base: '/static/base',\n",
        "          plotly: 'https://cdn.plot.ly/plotly-latest.min.js?noext',\n",
        "            },\n",
        "       });\n",
        "     </script>\"\"\")\n",
        "\n",
        "\n",
        "val defaultColor = Color.RGBA(204,204,204,1)\n",
        "val highlightColor = Color.RGBA(222,45,38,0.8)\n",
        "\n",
        "val trace1 = Bar(\n",
        "  Seq(\"Feature A\", \"Feature B\", \"Feature C\", \"Feature D\", \"Feature E\"),\n",
        "  Seq(20, 14, 23, 25, 22),\n",
        "  marker = Marker(\n",
        "    color = Seq(\n",
        "      defaultColor, highlightColor, defaultColor, defaultColor, defaultColor\n",
        "    )\n",
        "  )\n",
        ")\n",
        "\n",
        "val data = Seq(trace1)\n",
        "\n",
        "val layout = Layout(\n",
        "  title = \"Least Used Feature\"\n",
        ")\n",
        "\n",
        "plot(data, layout)"
      ],
      "execution_count": 0,
      "outputs": []
    },
    {
      "metadata": {
        "id": "agKM70T92rev",
        "colab_type": "text"
      },
      "cell_type": "markdown",
      "source": [
        "## Waterfall Bar Chart"
      ]
    },
    {
      "metadata": {
        "id": "BUH1T-LW2rew",
        "colab_type": "code",
        "colab": {}
      },
      "cell_type": "code",
      "source": [
        "kernel.publish.html(\"\"\"\n",
        "   <script src=\"/static/components/requirejs/require.js\"></script>\n",
        "     <script>\n",
        "       requirejs.config({\n",
        "          paths: {\n",
        "          base: '/static/base',\n",
        "          plotly: 'https://cdn.plot.ly/plotly-latest.min.js?noext',\n",
        "            },\n",
        "       });\n",
        "     </script>\"\"\")\n",
        "\n",
        "\n",
        "val xData = Seq(\n",
        "  \"Product Revenue\",\n",
        "  \"Services Revenue\",\n",
        "  \"Total Revenue\",\n",
        "  \"Fixed Costs\",\n",
        "  \"Variable Costs\",\n",
        "  \"Total Costs\",\n",
        "  \"Total\"\n",
        ")\n",
        "\n",
        "val yData = Seq(400, 660, 660, 590, 400, 400, 340)\n",
        "\n",
        "val textList = Seq(\"$430K\", \"$260K\", \"$690K\", \"$-120K\", \"$-200K\", \"$-320K\", \"$370K\")\n",
        "\n",
        "//Base\n",
        "\n",
        "val trace1 = Bar(\n",
        "  x = xData,\n",
        "  y = Seq(0, 430, 0, 570, 370, 370, 0),\n",
        "  marker = Marker(\n",
        "    color = Color.RGBA(1, 1, 1, 0.0)\n",
        "  )\n",
        ")\n",
        "\n",
        "//Revenue\n",
        "\n",
        "val trace2 = Bar(\n",
        "  xData,\n",
        "  Seq(430, 260, 690, 0, 0, 0, 0),\n",
        "  marker = Marker(\n",
        "    color = Color.RGBA(55, 128, 191, 0.7),\n",
        "    line = Line(\n",
        "      color = Color.RGBA(55, 128, 191, 1.0),\n",
        "      width = 2.0\n",
        "    )\n",
        "  )\n",
        ")\n",
        "\n",
        "//Cost\n",
        "\n",
        "val trace3 = Bar(\n",
        "  xData,\n",
        "  Seq(0, 0, 0, 120, 200, 320, 0),\n",
        "  marker = Marker(\n",
        "    color = Color.RGBA(219, 64, 82, 0.7),\n",
        "    line = Line(\n",
        "      color = Color.RGBA(219, 64, 82, 1.0),\n",
        "      width = 2.0\n",
        "    )\n",
        "  )\n",
        ")\n",
        "\n",
        "//Profit\n",
        "\n",
        "val trace4 = Bar(\n",
        "  xData,\n",
        "  Seq(0, 0, 0, 0, 0, 0, 370),\n",
        "  marker = Marker(\n",
        "    color = Color.RGBA(50,171, 96, 0.7),\n",
        "    line = Line(\n",
        "      color = Color.RGBA(50, 171, 96, 1.0),\n",
        "      width = 2.0\n",
        "    )\n",
        "  )\n",
        ")\n",
        "\n",
        "val data = Seq(trace1, trace2, trace3, trace4)\n",
        "\n",
        "val annotations = xData.zip(yData).zip(textList).map {\n",
        "  case ((x, y), text) =>\n",
        "    Annotation(\n",
        "      x = x,\n",
        "      y = y,\n",
        "      text = text,\n",
        "      font = Font(\n",
        "        family = \"Arial\",\n",
        "        size = 14,\n",
        "        color = Color.RGBA(245, 246, 249, 1)\n",
        "      ),\n",
        "      showarrow = false\n",
        "    )\n",
        "}\n",
        "\n",
        "val layout = Layout(\n",
        "  title = \"Annual Profit 2015\",\n",
        "  barmode = BarMode.Stack,\n",
        "  paper_bgcolor = Color.RGBA(245, 246, 249, 1),\n",
        "  plot_bgcolor = Color.RGBA(245, 246, 249, 1),\n",
        "  width = 600,\n",
        "  height = 400,\n",
        "  showlegend = false,\n",
        "  annotations = annotations\n",
        ")\n",
        "\n",
        "plot(data, layout)"
      ],
      "execution_count": 0,
      "outputs": []
    },
    {
      "metadata": {
        "id": "JDwbR2D12rey",
        "colab_type": "text"
      },
      "cell_type": "markdown",
      "source": [
        "# Horizontal Bar Charts\n",
        "## Basic Horizontal Bar Chart"
      ]
    },
    {
      "metadata": {
        "id": "Ejp7ZOxl2rey",
        "colab_type": "code",
        "colab": {}
      },
      "cell_type": "code",
      "source": [
        "kernel.publish.html(\"\"\"\n",
        "   <script src=\"/static/components/requirejs/require.js\"></script>\n",
        "     <script>\n",
        "       requirejs.config({\n",
        "          paths: {\n",
        "          base: '/static/base',\n",
        "          plotly: 'https://cdn.plot.ly/plotly-latest.min.js?noext',\n",
        "            },\n",
        "       });\n",
        "     </script>\"\"\")\n",
        "\n",
        "\n",
        "val data = Seq(Bar(\n",
        "  Seq(20, 14, 23),\n",
        "  Seq(\"giraffes\", \"orangutans\", \"monkeys\"),\n",
        "  orientation = Orientation.Horizontal\n",
        "))\n",
        "\n",
        "plot(data)"
      ],
      "execution_count": 0,
      "outputs": []
    },
    {
      "metadata": {
        "id": "o3bo5PE22re1",
        "colab_type": "text"
      },
      "cell_type": "markdown",
      "source": [
        "## Colored Bar Chart"
      ]
    },
    {
      "metadata": {
        "id": "eqBLQHNx2re1",
        "colab_type": "code",
        "colab": {}
      },
      "cell_type": "code",
      "source": [
        "kernel.publish.html(\"\"\"\n",
        "   <script src=\"/static/components/requirejs/require.js\"></script>\n",
        "     <script>\n",
        "       requirejs.config({\n",
        "          paths: {\n",
        "          base: '/static/base',\n",
        "          plotly: 'https://cdn.plot.ly/plotly-latest.min.js?noext',\n",
        "            },\n",
        "       });\n",
        "     </script>\"\"\")\n",
        "\n",
        "\n",
        "val trace1 = Bar(\n",
        "  Seq(20, 14, 23),\n",
        "  Seq(\"giraffes\", \"orangutans\", \"monkeys\"),\n",
        "  name = \"SF Zoo\",\n",
        "  orientation = Orientation.Horizontal,\n",
        "  marker = Marker(\n",
        "    color = Color.RGBA(55, 128, 191, 0.6),\n",
        "    width = 1\n",
        "  )\n",
        ")\n",
        "\n",
        "val trace2 = Bar(\n",
        "  Seq(12, 18, 29),\n",
        "  Seq(\"giraffes\", \"orangutans\", \"monkeys\"),\n",
        "  name = \"LA Zoo\",\n",
        "  orientation = Orientation.Horizontal,\n",
        "  marker = Marker(\n",
        "    color = Color.RGBA(255, 153, 51, 0.6),\n",
        "    width = 1\n",
        "  )\n",
        ")\n",
        "\n",
        "val data = Seq(trace1, trace2)\n",
        "\n",
        "val layout = Layout(\n",
        "  title = \"Colored Bar Chart\",\n",
        "  barmode = BarMode.Stack\n",
        ")\n",
        "\n",
        "plot(data, layout)"
      ],
      "execution_count": 0,
      "outputs": []
    },
    {
      "metadata": {
        "id": "gYVbeGiH2re3",
        "colab_type": "text"
      },
      "cell_type": "markdown",
      "source": [
        "# Time Series\n",
        "## Time Series Chart"
      ]
    },
    {
      "metadata": {
        "id": "jOw5OHIo2re3",
        "colab_type": "code",
        "colab": {}
      },
      "cell_type": "code",
      "source": [
        "kernel.publish.html(\"\"\"\n",
        "   <script src=\"/static/components/requirejs/require.js\"></script>\n",
        "     <script>\n",
        "       requirejs.config({\n",
        "          paths: {\n",
        "          base: '/static/base',\n",
        "          plotly: 'https://cdn.plot.ly/plotly-latest.min.js?noext',\n",
        "            },\n",
        "       });\n",
        "     </script>\"\"\")\n",
        "\n",
        "\n",
        "val data = Seq(\n",
        "  Scatter(\n",
        "    Seq(\"2013-10-04 22:23:00\", \"2013-11-04 22:23:00\", \"2013-12-04 22:23:00\"),\n",
        "    Seq(1, 3, 6)\n",
        "  )\n",
        ")\n",
        "\n",
        "plot(data)"
      ],
      "execution_count": 0,
      "outputs": []
    },
    {
      "metadata": {
        "id": "GVANRKHS2re5",
        "colab_type": "text"
      },
      "cell_type": "markdown",
      "source": [
        "# Bubble Charts\n",
        "## Hover on Text Bubble Chart"
      ]
    },
    {
      "metadata": {
        "id": "XEyeVuhO2re5",
        "colab_type": "code",
        "colab": {}
      },
      "cell_type": "code",
      "source": [
        "kernel.publish.html(\"\"\"\n",
        "   <script src=\"/static/components/requirejs/require.js\"></script>\n",
        "     <script>\n",
        "       requirejs.config({\n",
        "          paths: {\n",
        "          base: '/static/base',\n",
        "          plotly: 'https://cdn.plot.ly/plotly-latest.min.js?noext',\n",
        "            },\n",
        "       });\n",
        "     </script>\"\"\")\n",
        "\n",
        "\n",
        "val trace1 = Scatter(\n",
        "  Seq(1, 2, 3, 4),\n",
        "  Seq(10, 11, 12, 13),\n",
        "  text = Seq(\"\"\"A\n",
        "  size = 40\"\"\", \"\"\"B\n",
        "  size = 60\"\"\", \"\"\"C\n",
        "  size = 80\"\"\", \"\"\"D\n",
        "  size = 100\"\"\"),\n",
        "  mode = ScatterMode(ScatterMode.Markers),\n",
        "  marker = Marker(\n",
        "    color = Seq(Color.RGB(93, 164, 214), Color.RGB(255, 144, 14), Color.RGB(44, 160, 101), Color.RGB(255, 65, 54)),\n",
        "    size = Seq(40, 60, 80, 100)\n",
        "  )\n",
        ")\n",
        "\n",
        "val data = Seq(trace1)\n",
        "\n",
        "val layout = Layout(\n",
        "  title = \"Bubble Chart Hover Text\",\n",
        "  showlegend = false,\n",
        "  height = 400,\n",
        "  width = 600\n",
        ")\n",
        "\n",
        "plot(data, layout)"
      ],
      "execution_count": 0,
      "outputs": []
    },
    {
      "metadata": {
        "id": "xTcntIF22re7",
        "colab_type": "text"
      },
      "cell_type": "markdown",
      "source": [
        "# Filled Area Plots\n",
        "## Basic Overlaid Area Chart"
      ]
    },
    {
      "metadata": {
        "id": "ejcgi7e_2re8",
        "colab_type": "code",
        "colab": {}
      },
      "cell_type": "code",
      "source": [
        "kernel.publish.html(\"\"\"\n",
        "   <script src=\"/static/components/requirejs/require.js\"></script>\n",
        "     <script>\n",
        "       requirejs.config({\n",
        "          paths: {\n",
        "          base: '/static/base',\n",
        "          plotly: 'https://cdn.plot.ly/plotly-latest.min.js?noext',\n",
        "            },\n",
        "       });\n",
        "     </script>\"\"\")\n",
        "\n",
        "\n",
        "val trace1 = Scatter(\n",
        "  Seq(1, 2, 3, 4),\n",
        "  Seq(0, 2, 3, 5),\n",
        "  fill = Fill.ToZeroY\n",
        ")\n",
        "\n",
        "val trace2 = Scatter(\n",
        "  Seq(1, 2, 3, 4),\n",
        "  Seq(3, 5, 1, 7),\n",
        "  fill = Fill.ToNextY\n",
        ")\n",
        "\n",
        "val data = Seq(trace1, trace2)\n",
        "\n",
        "plot(data)"
      ],
      "execution_count": 0,
      "outputs": []
    }
  ]
}